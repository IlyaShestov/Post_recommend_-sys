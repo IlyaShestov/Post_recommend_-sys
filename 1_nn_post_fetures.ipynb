{
 "cells": [
  {
   "cell_type": "code",
   "execution_count": null,
   "id": "a22d96ff",
   "metadata": {},
   "outputs": [],
   "source": [
    " \"\"\"\n",
    " Данный файл обрабатывает данные для постов пользователя с помощью нейросети. \n",
    " Идея - закодировать посты в виде эмбедингов и использовать на них метод понижения пространства что бы использовать как фичи\n",
    " для обучения ML модели. Использую лингвистическю модель DistilBertModel, т.к. она легче Bert и Roberta,\n",
    " но не сильно уступает им в качестве. В качестве метода понижения пространства - PCA\n",
    " \"\"\""
   ]
  },
  {
   "cell_type": "code",
   "execution_count": 5,
   "id": "e22f159e",
   "metadata": {},
   "outputs": [],
   "source": [
    "#забираю данные\n",
    "import pandas as pd\n",
    "posts_info = pd.read_csv('post.csv')"
   ]
  },
  {
   "cell_type": "code",
   "execution_count": 2,
   "id": "936ad5b2",
   "metadata": {},
   "outputs": [],
   "source": [
    "\n",
    "from transformers import DistilBertModel  # https://huggingface.co/docs/transformers/model_doc/distilbert#transformers.DistilBertModel\n",
    "\n",
    "\n",
    "def get_model(model_name):\n",
    "    \"\"\"\n",
    "    Функция возвращает токенайзер и предобученую модель по ключу 'distilbert'\n",
    "    \"\"\"\n",
    "    assert model_name in ['distilbert']\n",
    "\n",
    "    checkpoint_names = {'distilbert': 'distilbert-base-cased'  # https://huggingface.co/distilbert-base-cased}\n",
    "\n",
    "    model_classes = {'distilbert': DistilBertModel}\n",
    "\n",
    "    return AutoTokenizer.from_pretrained(checkpoint_names[model_name]), model_classes[model_name].from_pretrained(checkpoint_names[model_name])"
   ]
  },
  {
   "cell_type": "code",
   "execution_count": 3,
   "id": "95da6f77",
   "metadata": {},
   "outputs": [],
   "source": [
    "tokenizer, model = get_model('distilbert')"
   ]
  },
  {
   "cell_type": "code",
   "execution_count": 6,
   "id": "a4a34f24",
   "metadata": {},
   "outputs": [],
   "source": [
    "### Напишем класс датасет для постов\n",
    "\n",
    "from torch.utils.data import Dataset\n",
    "from torch.utils.data import DataLoader\n",
    "from transformers import DataCollatorWithPadding\n",
    "\n",
    "\n",
    "class PostDataset(Dataset):\n",
    "    \"\"\"\n",
    "    Класс обрабатывает полученый текст с помощью токнайзера 'distilbert'\n",
    "    для использования в этой моделе    \n",
    "    \"\"\"\n",
    "    def __init__(self, texts, tokenizer):\n",
    "        super().__init__()\n",
    "\n",
    "        self.texts = tokenizer.batch_encode_plus(\n",
    "            texts,\n",
    "            add_special_tokens=True,\n",
    "            return_token_type_ids=False,\n",
    "            return_tensors='pt',\n",
    "            truncation=True,\n",
    "            padding=True\n",
    "        )\n",
    "        self.tokenizer = tokenizer\n",
    "\n",
    "    def __getitem__(self, idx):\n",
    "        return {'input_ids': self.texts['input_ids'][idx], 'attention_mask': self.texts['attention_mask'][idx]}\n",
    "\n",
    "    def __len__(self):\n",
    "        return len(self.texts['input_ids'])\n",
    "    \n",
    "#создадим экземпляр класса для датасета    \n",
    "dataset = PostDataset(posts_info['text'].values.tolist(), tokenizer)\n",
    "#укажем способ сбора батчей с паддингом\n",
    "data_collator = DataCollatorWithPadding(tokenizer=tokenizer)\n",
    "#сформируем даталоадер для модели\n",
    "loader = DataLoader(dataset, batch_size=32, collate_fn=data_collator, pin_memory=True, shuffle=False)"
   ]
  },
  {
   "cell_type": "code",
   "execution_count": 7,
   "id": "2f1e9562",
   "metadata": {},
   "outputs": [],
   "source": [
    "import torch\n",
    "from tqdm import tqdm\n",
    "\n",
    "\n",
    "@torch.inference_mode()\n",
    "def get_embeddings_labels(model, loader):\n",
    "    \"\"\"\n",
    "    Функция получает на вход нейросеть и лоадер с пердобработаными постами\n",
    "    Проводите обработку лоадера в режиме применения \n",
    "    На выходе получаем эмбединги для каждого поста\n",
    "    \"\"\"\n",
    "    model.eval()\n",
    "    \n",
    "    total_embeddings = []\n",
    "    \n",
    "    for batch in tqdm(loader):\n",
    "        batch = {key: batch[key].to(device) for key in ['attention_mask', 'input_ids']}\n",
    "\n",
    "        embeddings = model(**batch)['last_hidden_state'][:, 0, :]\n",
    "\n",
    "        total_embeddings.append(embeddings.cpu())\n",
    "\n",
    "    return torch.cat(total_embeddings, dim=0)"
   ]
  },
  {
   "cell_type": "code",
   "execution_count": 8,
   "id": "3c45f07a",
   "metadata": {},
   "outputs": [
    {
     "name": "stdout",
     "output_type": "stream",
     "text": [
      "cuda:0\n",
      "NVIDIA GeForce GTX 1650\n"
     ]
    }
   ],
   "source": [
    "#проверим возморжность работы видеокарты\n",
    "device = torch.device('cuda:0' if torch.cuda.is_available() else 'cpu')\n",
    "\n",
    "print(device)\n",
    "print(torch.cuda.get_device_name())\n",
    "\n",
    "model = model.to(device)"
   ]
  },
  {
   "cell_type": "code",
   "execution_count": 9,
   "id": "1069874f",
   "metadata": {},
   "outputs": [
    {
     "name": "stderr",
     "output_type": "stream",
     "text": [
      "  0%|                                                                                          | 0/220 [00:00<?, ?it/s]You're using a DistilBertTokenizerFast tokenizer. Please note that with a fast tokenizer, using the `__call__` method is faster than using a method to encode the text followed by a call to the `pad` method to get a padded encoding.\n",
      "100%|████████████████████████████████████████████████████████████████████████████████| 220/220 [03:22<00:00,  1.08it/s]\n"
     ]
    },
    {
     "data": {
      "text/plain": [
       "array([[ 3.63150865e-01,  4.89376076e-02, -2.64081180e-01, ...,\n",
       "        -1.41593322e-01,  1.59181338e-02,  9.17690195e-05],\n",
       "       [ 2.36416355e-01, -1.59500718e-01, -3.27798098e-01, ...,\n",
       "        -2.89936095e-01,  1.19365320e-01, -1.62343075e-03],\n",
       "       [ 3.75191331e-01, -1.13944076e-01, -2.40547031e-01, ...,\n",
       "        -3.38919759e-01,  5.86940572e-02, -2.12656837e-02],\n",
       "       ...,\n",
       "       [ 3.40382695e-01,  6.64923638e-02, -1.63184494e-01, ...,\n",
       "        -8.65628794e-02,  2.03403875e-01,  3.20906416e-02],\n",
       "       [ 4.32091892e-01,  1.10916262e-02, -1.17306069e-01, ...,\n",
       "         7.54015967e-02,  1.02739766e-01,  1.52742090e-02],\n",
       "       [ 3.04277748e-01, -7.62156770e-02, -6.77585602e-02, ...,\n",
       "        -5.43488115e-02,  2.44383752e-01, -1.41487354e-02]], dtype=float32)"
      ]
     },
     "execution_count": 9,
     "metadata": {},
     "output_type": "execute_result"
    }
   ],
   "source": [
    "#формируем эмбединги\n",
    "embeddings = get_embeddings_labels(model, loader).numpy()\n",
    "\n",
    "embeddings"
   ]
  },
  {
   "cell_type": "code",
   "execution_count": 11,
   "id": "19d9e8fc",
   "metadata": {},
   "outputs": [],
   "source": [
    "#на получены эмбединги искользуем PCA и скратим пространство до 2 измерений\n",
    "from sklearn.decomposition import PCA\n",
    "\n",
    "centered = embeddings - embeddings.mean()\n",
    "\n",
    "pca = PCA(n_components=2,random_state = 74)\n",
    "\n",
    "pca_decomp = pca.fit_transform(centered)"
   ]
  },
  {
   "cell_type": "code",
   "execution_count": 15,
   "id": "12f8116a",
   "metadata": {},
   "outputs": [
    {
     "data": {
      "text/html": [
       "<div>\n",
       "<style scoped>\n",
       "    .dataframe tbody tr th:only-of-type {\n",
       "        vertical-align: middle;\n",
       "    }\n",
       "\n",
       "    .dataframe tbody tr th {\n",
       "        vertical-align: top;\n",
       "    }\n",
       "\n",
       "    .dataframe thead th {\n",
       "        text-align: right;\n",
       "    }\n",
       "</style>\n",
       "<table border=\"1\" class=\"dataframe\">\n",
       "  <thead>\n",
       "    <tr style=\"text-align: right;\">\n",
       "      <th></th>\n",
       "      <th>0</th>\n",
       "      <th>1</th>\n",
       "    </tr>\n",
       "  </thead>\n",
       "  <tbody>\n",
       "    <tr>\n",
       "      <th>0</th>\n",
       "      <td>0.789074</td>\n",
       "      <td>1.578994</td>\n",
       "    </tr>\n",
       "    <tr>\n",
       "      <th>1</th>\n",
       "      <td>0.792763</td>\n",
       "      <td>1.521054</td>\n",
       "    </tr>\n",
       "    <tr>\n",
       "      <th>2</th>\n",
       "      <td>0.801290</td>\n",
       "      <td>1.223608</td>\n",
       "    </tr>\n",
       "    <tr>\n",
       "      <th>3</th>\n",
       "      <td>0.867122</td>\n",
       "      <td>0.971222</td>\n",
       "    </tr>\n",
       "    <tr>\n",
       "      <th>4</th>\n",
       "      <td>0.411658</td>\n",
       "      <td>0.809848</td>\n",
       "    </tr>\n",
       "    <tr>\n",
       "      <th>...</th>\n",
       "      <td>...</td>\n",
       "      <td>...</td>\n",
       "    </tr>\n",
       "    <tr>\n",
       "      <th>7018</th>\n",
       "      <td>-0.983510</td>\n",
       "      <td>-0.483879</td>\n",
       "    </tr>\n",
       "    <tr>\n",
       "      <th>7019</th>\n",
       "      <td>-0.821777</td>\n",
       "      <td>-0.706064</td>\n",
       "    </tr>\n",
       "    <tr>\n",
       "      <th>7020</th>\n",
       "      <td>-0.469401</td>\n",
       "      <td>-0.874856</td>\n",
       "    </tr>\n",
       "    <tr>\n",
       "      <th>7021</th>\n",
       "      <td>-1.579793</td>\n",
       "      <td>-0.448612</td>\n",
       "    </tr>\n",
       "    <tr>\n",
       "      <th>7022</th>\n",
       "      <td>-0.894471</td>\n",
       "      <td>-0.534900</td>\n",
       "    </tr>\n",
       "  </tbody>\n",
       "</table>\n",
       "<p>7023 rows × 2 columns</p>\n",
       "</div>"
      ],
      "text/plain": [
       "             0         1\n",
       "0     0.789074  1.578994\n",
       "1     0.792763  1.521054\n",
       "2     0.801290  1.223608\n",
       "3     0.867122  0.971222\n",
       "4     0.411658  0.809848\n",
       "...        ...       ...\n",
       "7018 -0.983510 -0.483879\n",
       "7019 -0.821777 -0.706064\n",
       "7020 -0.469401 -0.874856\n",
       "7021 -1.579793 -0.448612\n",
       "7022 -0.894471 -0.534900\n",
       "\n",
       "[7023 rows x 2 columns]"
      ]
     },
     "execution_count": 15,
     "metadata": {},
     "output_type": "execute_result"
    }
   ],
   "source": [
    "pd.DataFrame(pca_decomp)"
   ]
  },
  {
   "cell_type": "code",
   "execution_count": 25,
   "id": "32d98472",
   "metadata": {},
   "outputs": [],
   "source": [
    "\n",
    "def transform_post(post, n_pca = 20, drop = True, ohe = True,lemma =True):\n",
    "    \"\"\"\n",
    "    Функция получает на вход таблицу пост post.\n",
    "    Опчионально проводит OneHotEncoding типов постов,\n",
    "    Лемматизацию текстов, Tf-Idf и накладывает на полученые вектора  PCA\n",
    "    \n",
    "    :n_pca: кол-во изерений в новом пространстве, если 0 не проводит pca b tf-idf\n",
    "    :drop: = True/False дропать ли колонку текст\n",
    "    :ohe: = True/False проводить ли  OneHotEncoding колонки topic\n",
    "    :lemma: =True/False проводить ли лемматизацию\n",
    "    \n",
    "    \n",
    "    \"\"\"\n",
    "    post_ = post.copy()\n",
    "    #wnl = WordNetLemmatizer() #закоментил что бы не качать т.к. он не нужен в этом буке\n",
    "    \n",
    "    #лемматизация текста\n",
    "    if lemma == True:\n",
    "        def preprocessing(line, token=wnl):\n",
    "            line = line.lower()\n",
    "            line = re.sub(r\"[{}]\".format(string.punctuation), \" \", line)\n",
    "            line = line.replace('\\n\\n', ' ').replace('\\n', ' ')\n",
    "            line = ' '.join([token.lemmatize(x) for x in line.split(' ')])\n",
    "            return line\n",
    "    else:\n",
    "        preprocessing = None\n",
    "\n",
    "    # учу OHE_Post\n",
    "    if ohe == True:\n",
    "        one_hot = pd.get_dummies(post_['topic'], prefix='topic', drop_first=True)\n",
    "        post_  = pd.concat((post_.drop(['topic'], axis=1), one_hot), axis=1)\n",
    "        post_transformd = post_\n",
    "    elif ohe == False:\n",
    "        post_transformd = post_.drop(['topic'],axis =1 )\n",
    "    \n",
    "    # tf-idf+ pca\n",
    "    if n_pca > 0 :\n",
    "        # провожу tf-idf для Post    \n",
    "        tf = TfidfVectorizer(stop_words='english',\n",
    "                             preprocessor=preprocessing, \n",
    "                             min_df = 5) #создаю экземпляр класса\n",
    "        tf_idf_ = tf.fit_transform(post_['text'])#учу класс\n",
    "        tf_idf_ = tf_idf_.toarray() - tf_idf_.mean() #центрируем данные\n",
    "\n",
    "        list_col_pca = [f\"PCA_{nn}\" for nn in range(1,n_pca + 1)] \n",
    "        pca = PCA(n_components=n_pca,random_state = 74)\n",
    "        \n",
    "        # создаю экземплря PCA\n",
    "        PCA_dataset = pca.fit_transform(tf_idf_) #провожу PCA \n",
    "        PCA_dataset = pd.DataFrame(PCA_dataset, columns=list_col_pca,index=post.index)\n",
    "        \n",
    "        # Трансформирую Post    \n",
    "        post_transformd = pd.concat((post_transformd, PCA_dataset), axis=1)\n",
    "        if drop == True:\n",
    "            post_transformd = post_transformd.drop(['text'],axis=1) \n",
    "            \n",
    "    \n",
    "    else:\n",
    "        if drop == True:\n",
    "            post_transformd = post_transformd.drop(['text'],axis=1)\n",
    "        \n",
    "    return post_transformd"
   ]
  },
  {
   "cell_type": "code",
   "execution_count": 26,
   "id": "14ec9bfa",
   "metadata": {},
   "outputs": [],
   "source": [
    "# таблица post без текса и раскодироваными topic\n",
    "new_post_df = transform_post(posts_info,n_pca = 0, drop = True, ohe = True,lemma =False)"
   ]
  },
  {
   "cell_type": "code",
   "execution_count": 32,
   "id": "45231ac8",
   "metadata": {},
   "outputs": [],
   "source": [
    "# обработаная таблица для обучения модели\n",
    "new_post_df = pd.merge(new_post_df, pd.DataFrame(pca_decomp,columns = ['PCA_1', 'PCA_2']),left_index=True, right_index=True,how='left')"
   ]
  },
  {
   "cell_type": "code",
   "execution_count": null,
   "id": "11091c5a",
   "metadata": {},
   "outputs": [],
   "source": [
    "#сохраняем данные\n",
    "new_post_df.to_csv('post_transform_nn.csv', index=False) "
   ]
  }
 ],
 "metadata": {
  "kernelspec": {
   "display_name": "Python 3 (ipykernel)",
   "language": "python",
   "name": "python3"
  },
  "language_info": {
   "codemirror_mode": {
    "name": "ipython",
    "version": 3
   },
   "file_extension": ".py",
   "mimetype": "text/x-python",
   "name": "python",
   "nbconvert_exporter": "python",
   "pygments_lexer": "ipython3",
   "version": "3.9.6"
  }
 },
 "nbformat": 4,
 "nbformat_minor": 5
}
