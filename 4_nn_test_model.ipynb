{
 "cells": [
  {
   "cell_type": "code",
   "execution_count": null,
   "id": "5a592145",
   "metadata": {},
   "outputs": [],
   "source": [
    "\"\"\"\n",
    "Тестируем работоспособность модели с базой SQL \n",
    "Модель с эмбедингами нейросети  \n",
    "\"\"\""
   ]
  },
  {
   "cell_type": "code",
   "execution_count": 1,
   "id": "31a5baf6",
   "metadata": {},
   "outputs": [],
   "source": [
    "from fastapi import  FastAPI, Depends, HTTPException\n",
    "from sqlalchemy.orm import Session\n",
    "#from schema import PostGet\n",
    "from typing import List\n",
    "from json import dumps\n",
    "import pandas as pd\n",
    "from sqlalchemy import create_engine\n",
    "from sqlalchemy.orm import sessionmaker\n",
    "from datetime import datetime\n",
    "from url import conn_uri"
   ]
  },
  {
   "cell_type": "code",
   "execution_count": 2,
   "id": "acb5a4d9",
   "metadata": {},
   "outputs": [],
   "source": [
    "\"\"\"\n",
    "Создадим классы для валидации выходных данных \n",
    "\"\"\"\n",
    "\n",
    "from pydantic import BaseModel\n",
    "class PostGet(BaseModel):\n",
    "    id: int\n",
    "    text: str\n",
    "    topic: str\n",
    "\n",
    "    class Config:\n",
    "        orm_mode = True"
   ]
  },
  {
   "cell_type": "code",
   "execution_count": 3,
   "id": "09c6640a",
   "metadata": {},
   "outputs": [],
   "source": [
    "SQLALCHEMY_DATABASE_URL = url\n",
    "\n",
    "engine = create_engine(SQLALCHEMY_DATABASE_URL)\n",
    "\n",
    "SessionLocal = sessionmaker(autocommit=False, autoflush=False, bind=engine)\n"
   ]
  },
  {
   "cell_type": "code",
   "execution_count": 4,
   "id": "6f7ad0a1",
   "metadata": {},
   "outputs": [],
   "source": [
    "import os\n",
    "from catboost import CatBoostClassifier\n",
    "\n",
    "def get_model_path(path: str) -> str:\n",
    "    \"\"\"\n",
    "    Функция проверяет где работает модель - локально или на удаленной машине\n",
    "    \"\"\"\n",
    "    if os.environ.get(\"IS_LMS\") == \"1\":  # проверяем где выполняется код \n",
    "        MODEL_PATH = '/workdir/user_input/model'\n",
    "    else:\n",
    "        MODEL_PATH = path\n",
    "    return MODEL_PATH\n",
    "\n",
    "def load_models():\n",
    "    \"\"\"\n",
    "    Загружаем модель\n",
    "    \"\"\"\n",
    "    model_path = get_model_path(\"model_Cat_2000it_(2ml)_with_data_nn\") #поменять путь в готовом проекте\n",
    "\n",
    "    model = CatBoostClassifier()  # parameters not required.\n",
    "    model.load_model(model_path, format='cbm') # пример как можно загружать модели\n",
    "\n",
    "    return model\n"
   ]
  },
  {
   "cell_type": "code",
   "execution_count": 5,
   "id": "4d143e94",
   "metadata": {},
   "outputs": [],
   "source": [
    "def batch_load_sql(query: str) -> pd.DataFrame:\n",
    "    CHUNKSIZE = 200000\n",
    "    engine = create_engine(SQLALCHEMY_DATABASE_URL)\n",
    "    \n",
    "    conn = engine.connect().execution_options(stream_results=True)\n",
    "    chunks = []\n",
    "    for chunk_dataframe in pd.read_sql(query, conn, chunksize=CHUNKSIZE):\n",
    "        chunks.append(chunk_dataframe)\n",
    "    conn.close()\n",
    "    return pd.concat(chunks, ignore_index=True)\n",
    "\n",
    "\n",
    "\n",
    "def load_features_user() -> pd.DataFrame:\n",
    "    user = batch_load_sql('SELECT * FROM \"shestov_user_lesson_22_v2\"')\n",
    "    return user\n",
    "\n",
    "\n",
    "def load_features_post_new() -> pd.DataFrame:\n",
    "    post_sort = batch_load_sql(\"\"\"SELECT * from \"shestov_post_lesson_22_v1.1\"\n",
    "     \"\"\")\n",
    "    return post_sort\n",
    "\n"
   ]
  },
  {
   "cell_type": "code",
   "execution_count": 6,
   "id": "a2e40463",
   "metadata": {},
   "outputs": [],
   "source": [
    "model_cat = load_models()\n"
   ]
  },
  {
   "cell_type": "code",
   "execution_count": 7,
   "id": "2eb7d0b0",
   "metadata": {
    "scrolled": false
   },
   "outputs": [],
   "source": [
    "user_transformd_ = load_features_user().drop(['index'],axis=1)"
   ]
  },
  {
   "cell_type": "code",
   "execution_count": 8,
   "id": "6bc67361",
   "metadata": {},
   "outputs": [],
   "source": [
    "post_sort = load_features_post_new().drop(['index'],axis=1)"
   ]
  },
  {
   "cell_type": "code",
   "execution_count": 9,
   "id": "1c9a4f00",
   "metadata": {},
   "outputs": [],
   "source": [
    "app = FastAPI()#"
   ]
  },
  {
   "cell_type": "code",
   "execution_count": 10,
   "id": "a7a0266b",
   "metadata": {},
   "outputs": [],
   "source": [
    "#@app.get(\"/post/recommendations/\", response_model=List[PostGet])\n",
    "def recommended_posts(id: int, time: datetime, limit: int = 5) -> List[PostGet]:\n",
    "    \"\"\"\n",
    "    Функция принимает на вход id  пользователя, время реакции пользователья на пост и лимит рекомендаций\n",
    "    Возвращает пользователю рекомендации в количестве limit\n",
    "    \"\"\"\n",
    "    result_list = []\n",
    "    df_test = pd.merge(\n",
    "        user_transformd_[user_transformd_['user_id']==id], \n",
    "        post_sort,how='cross').drop(['user_id'], axis =1).set_index(['post_id'])\n",
    "    df_test['hour'] = pd.to_datetime(time).hour\n",
    "    df_test['month'] = pd.to_datetime(time).month\n",
    "    df_test['dayofweek'] = pd.to_datetime(time).dayofweek\n",
    "    predict_pr = model_cat.predict_proba(df_test.drop(['text','topic'],axis=1))\n",
    "    result = pd.DataFrame(predict_pr, index = df_test.index).drop([0], axis=1).sort_values(by =1 ,ascending = False)[:limit]\n",
    "   \n",
    "    for i in range(limit):\n",
    "        id_ = int(result.index[-1+i])\n",
    "        result_list.append(            \n",
    "            \n",
    "                {\"id\": id_ ,\n",
    "                \"text\": str(df_test.loc[id_]['text']),\n",
    "                \"topic\":str(df_test.loc[id_]['topic']) }\n",
    "            \n",
    "        )\n",
    "\n",
    "    return result_list"
   ]
  },
  {
   "cell_type": "code",
   "execution_count": 11,
   "id": "cfb53ef4",
   "metadata": {},
   "outputs": [],
   "source": [
    "rec = recommended_posts(id = 204, time = '01.01.2001', limit= 5)"
   ]
  },
  {
   "cell_type": "code",
   "execution_count": 12,
   "id": "1b38b559",
   "metadata": {
    "scrolled": true
   },
   "outputs": [
    {
     "data": {
      "text/plain": [
       "[{'id': 2882,\n",
       "  'text': '#Yes to #Lockdown2 if #Covid19 gets out of control in #NewSouthWales, she said @AusChamberCEO.\\n\\nYou &amp; @thepmo are… https://t.co/xNj66t6sfH',\n",
       "  'topic': 'covid'},\n",
       " {'id': 3830,\n",
       "  'text': 'World tops 25 million #COVID19 cases;\\nclosing in on 850,000 deaths.\\nhttps://t.co/ojo2CypY9R',\n",
       "  'topic': 'covid'},\n",
       " {'id': 4008,\n",
       "  'text': 'COVID-19 CASES IN PH BREACH 143,000-MARK\\n\\nDOH reports 4,444 confirmed cases of #COVID19. As of 4 p.m., Aug. 12, 202… https://t.co/YzNc0D6fZk',\n",
       "  'topic': 'covid'},\n",
       " {'id': 3939,\n",
       "  'text': 'INTERNATIONAL and state #travelrestrictions due to #COVID19 are likely to redirect the 181 million domestic outboun… https://t.co/IohWbS9SV8',\n",
       "  'topic': 'covid'},\n",
       " {'id': 3368,\n",
       "  'text': '#Covid19 Positive cases reach 421 996. Covid-19 cases continue to rise rapidly across the country, as the so-called… https://t.co/95n2DEFU0a',\n",
       "  'topic': 'covid'}]"
      ]
     },
     "execution_count": 12,
     "metadata": {},
     "output_type": "execute_result"
    }
   ],
   "source": [
    "rec"
   ]
  }
 ],
 "metadata": {
  "kernelspec": {
   "display_name": "Python 3 (ipykernel)",
   "language": "python",
   "name": "python3"
  },
  "language_info": {
   "codemirror_mode": {
    "name": "ipython",
    "version": 3
   },
   "file_extension": ".py",
   "mimetype": "text/x-python",
   "name": "python",
   "nbconvert_exporter": "python",
   "pygments_lexer": "ipython3",
   "version": "3.9.6"
  }
 },
 "nbformat": 4,
 "nbformat_minor": 5
}
