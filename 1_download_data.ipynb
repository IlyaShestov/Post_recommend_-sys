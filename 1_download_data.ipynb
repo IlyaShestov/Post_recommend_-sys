{
 "cells": [
  {
   "cell_type": "code",
   "execution_count": null,
   "id": "a889b4e1",
   "metadata": {},
   "outputs": [],
   "source": [
    "\"\"\"\n",
    "Файл достает из базы данных данные из таблиц user, post и feed\n",
    "Данные в таблице feed сильно смещены: соотношение рекций ползователя лайк/не_лайк ~ 1/10.\n",
    "Поэтому искуственно сбалансируем данные вытащив по 1млн каждой реакции.\n",
    "\n",
    "\"\"\""
   ]
  },
  {
   "cell_type": "code",
   "execution_count": 1,
   "id": "fd73775d",
   "metadata": {},
   "outputs": [],
   "source": [
    "import pandas as pd\n",
    "from tqdm import tqdm\n",
    "import uri\n",
    "conn_uri = uri.conn_uri\n"
   ]
  },
  {
   "cell_type": "code",
   "execution_count": 2,
   "id": "6b09e8e1",
   "metadata": {},
   "outputs": [],
   "source": [
    "def get_user(conn_uri_):\n",
    "    return pd.read_sql(\"\"\"SELECT * FROM public.user_data \"\"\" , conn_uri_ )\n",
    "\n",
    "def get_post(conn_uri_):\n",
    "    return pd.read_sql(\"\"\"SELECT * FROM public.post_text_df\"\"\", conn_uri_ )\n",
    "     \n",
    "def get_feed(conn_uri_, n_feed): \n",
    "    return pd.read_sql(f\"\"\"SELECT * FROM public.feed_data limit {n_feed}\"\"\", conn_uri_ )   \n",
    "\n",
    "def get_feed_2(conn_uri_, n_feed): \n",
    "    return pd.read_sql(f\"\"\"SELECT * FROM public.feed_data  where  action = 'view' limit {n_feed}\"\"\", conn_uri_ )   \n",
    "\n",
    "def get_feed_like(conn_uri_, n_feed): \n",
    "    return pd.read_sql(f\"\"\"SELECT * FROM public.feed_data  where  (action = 'view' and target= 1) limit {n_feed}\"\"\", conn_uri_ )   \n",
    "\n",
    "def get_feed_not_like(conn_uri_, n_feed): \n",
    "    return pd.read_sql(f\"\"\"SELECT * FROM public.feed_data  where  (action = 'view'and target= 0) limit {n_feed}\"\"\", conn_uri_ )   \n"
   ]
  },
  {
   "cell_type": "code",
   "execution_count": null,
   "id": "ab9a0087",
   "metadata": {},
   "outputs": [],
   "source": [
    "# 1 млн лайкоы\n",
    "feed_like = get_feed_like(conn_uri, 1000000)\n",
    "feed_like.to_csv('feed_like1000k.csv', index=False) "
   ]
  },
  {
   "cell_type": "code",
   "execution_count": null,
   "id": "3b8d6fb5",
   "metadata": {},
   "outputs": [],
   "source": [
    "#Если проблемы со скачиванием можно качать чанками\n",
    "#feed_like = pd.DataFrame()\n",
    "#for chunk in tqdm(feed_like_chank):\n",
    "#    feed_like = pd.concat([feed_like, chunk])"
   ]
  },
  {
   "cell_type": "code",
   "execution_count": null,
   "id": "0313c7db",
   "metadata": {},
   "outputs": [],
   "source": [
    "# 1 млн пустой реакции\n",
    "feed_not_like = get_feed_not_like(conn_uri, 1000000)\n",
    "feed_not_like.to_csv('feed_not_like1000k.csv', index=False) "
   ]
  },
  {
   "cell_type": "code",
   "execution_count": null,
   "id": "1babd179",
   "metadata": {},
   "outputs": [],
   "source": [
    "#Если проблемы со скачиванием можно качать чанками\n",
    "#feed_not_like = pd.DataFrame()\n",
    "#for chunk in tqdm(feed_not_like_chank):\n",
    "#    feed_not_like = pd.concat([feed_not_like, chunk])"
   ]
  },
  {
   "cell_type": "code",
   "execution_count": null,
   "id": "729ddb5e",
   "metadata": {},
   "outputs": [],
   "source": [
    "#датасет 50/50 лайки/просмотры\n",
    "feed50_50 = pd.concat((feed_like, feed_not_like), axis =0).reset_index() \n",
    "feed50_50.to_csv('feed50_50_2mil',index=False)"
   ]
  },
  {
   "cell_type": "code",
   "execution_count": null,
   "id": "0ae2a356",
   "metadata": {},
   "outputs": [],
   "source": [
    "post_save = get_post(conn_uri) #чистый пост\n",
    "user_save = get_user(conn_uri) #чистый юзер"
   ]
  },
  {
   "cell_type": "code",
   "execution_count": null,
   "id": "ade173fe",
   "metadata": {},
   "outputs": [],
   "source": [
    "post_save.to_csv('post.csv', index=False)   \n",
    "user_save.to_csv('user.csv',index=False)"
   ]
  }
 ],
 "metadata": {
  "kernelspec": {
   "display_name": "Python 3 (ipykernel)",
   "language": "python",
   "name": "python3"
  },
  "language_info": {
   "codemirror_mode": {
    "name": "ipython",
    "version": 3
   },
   "file_extension": ".py",
   "mimetype": "text/x-python",
   "name": "python",
   "nbconvert_exporter": "python",
   "pygments_lexer": "ipython3",
   "version": "3.9.6"
  }
 },
 "nbformat": 4,
 "nbformat_minor": 5
}
